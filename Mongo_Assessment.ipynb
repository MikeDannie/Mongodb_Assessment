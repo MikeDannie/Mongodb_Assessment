{
 "cells": [
  {
   "cell_type": "code",
   "execution_count": 8,
   "id": "c803178c",
   "metadata": {},
   "outputs": [],
   "source": [
    "import pymongo\n",
    "\n",
    "myclient = pymongo.MongoClient(\"mongodb://localhost:27017/\")\n",
    "\n",
    "db = myclient[\"Telephone_Directory\"]\n",
    "\n",
    "mycol = db[\"User_details\"]"
   ]
  },
  {
   "cell_type": "code",
   "execution_count": 10,
   "id": "f3236581",
   "metadata": {},
   "outputs": [
    {
     "name": "stdout",
     "output_type": "stream",
     "text": [
      "6384dd770e764400cbcf7acf\n"
     ]
    }
   ],
   "source": [
    "mydict = { \"name\": \"Albert\", \"Phone Number\": \"555-884-4512\",\"Place\":\"New York\" }\n",
    "\n",
    "x = mycol.insert_one(mydict)\n",
    "\n",
    "print(x.inserted_id)"
   ]
  },
  {
   "cell_type": "code",
   "execution_count": 13,
   "id": "8c519990",
   "metadata": {},
   "outputs": [
    {
     "name": "stdout",
     "output_type": "stream",
     "text": [
      "[ObjectId('6384ecb70e764400cbcf7ada'), ObjectId('6384ecb70e764400cbcf7adb'), ObjectId('6384ecb70e764400cbcf7adc'), ObjectId('6384ecb70e764400cbcf7add'), ObjectId('6384ecb70e764400cbcf7ade')]\n"
     ]
    }
   ],
   "source": [
    "mylist = [\n",
    "    { \"name\": \"George\", \"Phone Number\": \"445-878-6589\",\"Place\":\"Florida\" },\n",
    "    { \"name\": \"Jane\", \"Phone Number\": \"554-567-7894\",\"Place\":\"Austin\"},\n",
    "    { \"name\": \"Llyod\", \"Phone Number\": \"558-898-4575\",\"Place\":\"New York\" },\n",
    "    { \"name\": \"Philip\", \"Phone Number\": \"458-857-3212\",\"Place\":\"Florida\" },\n",
    "    { \"name\": \"Penny\", \"Phone Number\": \"656-857-5454\",\"Place\":\"Austin\" }\n",
    "]\n",
    "\n",
    "y = mycol.insert_many(mylist)\n",
    "\n",
    "print(y.inserted_ids)"
   ]
  },
  {
   "cell_type": "code",
   "execution_count": 14,
   "id": "49052b9e",
   "metadata": {},
   "outputs": [
    {
     "name": "stdout",
     "output_type": "stream",
     "text": [
      "{'_id': ObjectId('6384dd770e764400cbcf7acf'), 'name': 'Albert', 'Phone Number': '555-884-4512', 'Place': 'New York'}\n"
     ]
    }
   ],
   "source": [
    "x = mycol.find_one()\n",
    "\n",
    "print(x)"
   ]
  },
  {
   "cell_type": "code",
   "execution_count": 15,
   "id": "f85b623c",
   "metadata": {},
   "outputs": [
    {
     "name": "stdout",
     "output_type": "stream",
     "text": [
      "{'_id': ObjectId('6384dd770e764400cbcf7acf'), 'name': 'Albert', 'Phone Number': '555-884-4512', 'Place': 'New York'}\n",
      "{'_id': ObjectId('6384ecb70e764400cbcf7ada'), 'name': 'George', 'Phone Number': '445-878-6589', 'Place': 'Florida'}\n",
      "{'_id': ObjectId('6384ecb70e764400cbcf7adb'), 'name': 'Jane', 'Phone Number': '554-567-7894', 'Place': 'Austin'}\n",
      "{'_id': ObjectId('6384ecb70e764400cbcf7adc'), 'name': 'Llyod', 'Phone Number': '558-898-4575', 'Place': 'New York'}\n",
      "{'_id': ObjectId('6384ecb70e764400cbcf7add'), 'name': 'Philip', 'Phone Number': '458-857-3212', 'Place': 'Florida'}\n",
      "{'_id': ObjectId('6384ecb70e764400cbcf7ade'), 'name': 'Penny', 'Phone Number': '656-857-5454', 'Place': 'Austin'}\n"
     ]
    }
   ],
   "source": [
    "for x in mycol.find():\n",
    "  print(x)"
   ]
  },
  {
   "cell_type": "code",
   "execution_count": 16,
   "id": "fcc2a99b",
   "metadata": {},
   "outputs": [
    {
     "name": "stdout",
     "output_type": "stream",
     "text": [
      "{'_id': ObjectId('6384dd770e764400cbcf7acf'), 'name': 'Albert', 'Phone Number': '555-884-4512', 'Place': 'New York'}\n",
      "{'_id': ObjectId('6384ecb70e764400cbcf7ada'), 'name': 'George', 'Phone Number': '445-878-6589', 'Place': 'Tampa'}\n",
      "{'_id': ObjectId('6384ecb70e764400cbcf7adb'), 'name': 'Jane', 'Phone Number': '554-567-7894', 'Place': 'Austin'}\n",
      "{'_id': ObjectId('6384ecb70e764400cbcf7adc'), 'name': 'Llyod', 'Phone Number': '558-898-4575', 'Place': 'New York'}\n",
      "{'_id': ObjectId('6384ecb70e764400cbcf7add'), 'name': 'Philip', 'Phone Number': '458-857-3212', 'Place': 'Florida'}\n",
      "{'_id': ObjectId('6384ecb70e764400cbcf7ade'), 'name': 'Penny', 'Phone Number': '656-857-5454', 'Place': 'Austin'}\n"
     ]
    }
   ],
   "source": [
    "Qy = { \"Place\": \"Florida\" }\n",
    "newdata = { \"$set\": { \"Place\": \"Tampa\" } }\n",
    "\n",
    "mycol.update_one(Qy, newdata)\n",
    "\n",
    "for x in mycol.find():\n",
    "  print(x)"
   ]
  },
  {
   "cell_type": "code",
   "execution_count": 17,
   "id": "a475e5e3",
   "metadata": {},
   "outputs": [
    {
     "name": "stdout",
     "output_type": "stream",
     "text": [
      "{'_id': ObjectId('6384dd770e764400cbcf7acf'), 'name': 'Albert', 'Phone Number': '555-884-4512', 'Place': 'New York'}\n",
      "{'_id': ObjectId('6384ecb70e764400cbcf7ada'), 'name': 'George', 'Phone Number': '445-878-6589', 'Place': 'Tampa'}\n",
      "{'_id': ObjectId('6384ecb70e764400cbcf7adc'), 'name': 'Llyod', 'Phone Number': '558-898-4575', 'Place': 'New York'}\n",
      "{'_id': ObjectId('6384ecb70e764400cbcf7add'), 'name': 'Philip', 'Phone Number': '458-857-3212', 'Place': 'Florida'}\n",
      "{'_id': ObjectId('6384ecb70e764400cbcf7ade'), 'name': 'Penny', 'Phone Number': '656-857-5454', 'Place': 'Austin'}\n"
     ]
    }
   ],
   "source": [
    "Q = { \"Place\": \"Austin\" }\n",
    "\n",
    "mycol.delete_one(Q)\n",
    "\n",
    "for x in mycol.find():\n",
    "  print(x)"
   ]
  },
  {
   "cell_type": "code",
   "execution_count": null,
   "id": "85c7b424",
   "metadata": {},
   "outputs": [],
   "source": []
  }
 ],
 "metadata": {
  "kernelspec": {
   "display_name": "Python 3 (ipykernel)",
   "language": "python",
   "name": "python3"
  },
  "language_info": {
   "codemirror_mode": {
    "name": "ipython",
    "version": 3
   },
   "file_extension": ".py",
   "mimetype": "text/x-python",
   "name": "python",
   "nbconvert_exporter": "python",
   "pygments_lexer": "ipython3",
   "version": "3.9.12"
  }
 },
 "nbformat": 4,
 "nbformat_minor": 5
}
